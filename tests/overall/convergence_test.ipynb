{
 "cells": [
  {
   "cell_type": "code",
   "execution_count": 1,
   "id": "aa17c3ca-8517-4b68-a320-0a87014b1e74",
   "metadata": {},
   "outputs": [],
   "source": [
    "import pickle\n",
    "import torch\n",
    "import os\n",
    "import matplotlib.pyplot as plt\n"
   ]
  },
  {
   "cell_type": "code",
   "execution_count": 2,
   "id": "8c6bf86d",
   "metadata": {},
   "outputs": [
    {
     "name": "stdout",
     "output_type": "stream",
     "text": [
      "['Sim_15.pickle', 'Sim_20.pickle', 'Sim_25.pickle', 'Sim_30.pickle', 'Sim_35.pickle', 'Sim_40.pickle', 'Sim_45.pickle', 'Sim_50.pickle', 'Sim_55.pickle', 'Sim_60.pickle', 'Sim_65.pickle', 'Sim_70.pickle']\n"
     ]
    }
   ],
   "source": [
    "file_names = []\n",
    "\n",
    "# Define the directory to search in\n",
    "directory = os.getcwd()\n",
    "pattern = 'Sim_'\n",
    "\n",
    "# Iterate over the files in the directory\n",
    "for filename in os.listdir(directory):\n",
    "    # Check if the file name matches the pattern\n",
    "    if filename.startswith(pattern):\n",
    "        # Add the file name to the list\n",
    "        file_names.append(filename)\n",
    "\n",
    "data = []\n",
    "# Load the files\n",
    "for file_name in file_names:\n",
    "    # Load the file\n",
    "    with open(os.path.join(directory, file_name), 'rb') as file:\n",
    "        # Do something with the file contents\n",
    "        data.append(pickle.load(file))\n",
    "\n",
    "print(file_names)"
   ]
  },
  {
   "cell_type": "code",
   "execution_count": 3,
   "id": "639e50dd",
   "metadata": {},
   "outputs": [
    {
     "data": {
      "text/plain": [
       "[420, 760, 1200, 1740, 2380, 3120, 3960, 4900, 5940, 7080, 8320, 9660]"
      ]
     },
     "execution_count": 3,
     "metadata": {},
     "output_type": "execute_result"
    }
   ],
   "source": [
    "net_N = [res['res'][0] for res in data]\n",
    "\n",
    "net_N"
   ]
  },
  {
   "cell_type": "code",
   "execution_count": 4,
   "id": "f188b3cd",
   "metadata": {},
   "outputs": [],
   "source": [
    "\n",
    "x = [420, 760, 1200, 1740, 2380, 3120, 3960, 4900, 5940, 7080, 8320, 9660]\n",
    "y = [0.3646, 0.3436, 0.3196, 0.3337, 0.3299, 0.3191, 0.3245, 0.3195, 0.3230,\n",
    "        0.3248, 0.3199, 0.3210]\n"
   ]
  },
  {
   "cell_type": "code",
   "execution_count": 5,
   "id": "f1b74132",
   "metadata": {},
   "outputs": [],
   "source": [
    "def compare(IM0, IM1):\n",
    "\n",
    "    I0 = sum(IM0)\n",
    "    I1 = sum(IM1)\n",
    "\n",
    "    nI0 = IM0/I0\n",
    "    nI1 = IM1/I1\n",
    "\n",
    "    return sum(abs(nI0-nI1)), (I0, I1)"
   ]
  },
  {
   "cell_type": "code",
   "execution_count": 7,
   "id": "6a5fd552-35de-48fe-8210-c797c8344b7c",
   "metadata": {},
   "outputs": [
    {
     "name": "stdout",
     "output_type": "stream",
     "text": [
      "tensor([0.3646, 0.3436, 0.3196, 0.3337, 0.3299, 0.3191, 0.3245, 0.3195, 0.3230,\n",
      "        0.3248, 0.3199, 0.3210])\n"
     ]
    }
   ],
   "source": [
    "evaluation = torch.ones(len(data))\n",
    "std = torch.ones(len(data))\n",
    "I_EH = torch.ones(len(data))\n",
    "I_RN = torch.ones(len(data))\n",
    "\n",
    "for i, res in enumerate(data):\n",
    "    evaluation[i], _ = compare(res['I2_EH'], res['I2_RN'])\n",
    "\n",
    "print(evaluation)"
   ]
  },
  {
   "cell_type": "code",
   "execution_count": 8,
   "id": "c985581f",
   "metadata": {},
   "outputs": [
    {
     "name": "stderr",
     "output_type": "stream",
     "text": [
      "C:\\Users\\aleks\\AppData\\Local\\Temp\\ipykernel_13616\\3145268581.py:12: RuntimeWarning: overflow encountered in exp\n",
      "  return a + c * np.exp(-d * x)\n"
     ]
    },
    {
     "data": {
      "image/png": "[encoded data removed]",
      "text/plain": [
       "<Figure size 432x288 with 1 Axes>"
      ]
     },
     "metadata": {
      "needs_background": "light"
     },
     "output_type": "display_data"
    },
    {
     "ename": "NameError",
     "evalue": "name 'p_cov' is not defined",
     "output_type": "error",
     "traceback": [
      "\u001b[1;31m---------------------------------------------------------------------------\u001b[0m",
      "\u001b[1;31mNameError\u001b[0m                                 Traceback (most recent call last)",
      "Input \u001b[1;32mIn [8]\u001b[0m, in \u001b[0;36m<cell line: 37>\u001b[1;34m()\u001b[0m\n\u001b[0;32m     35\u001b[0m \u001b[38;5;66;03m# Show the plot\u001b[39;00m\n\u001b[0;32m     36\u001b[0m plt\u001b[38;5;241m.\u001b[39mshow()\n\u001b[1;32m---> 37\u001b[0m \u001b[38;5;28mprint\u001b[39m(\u001b[43mp_cov\u001b[49m)\n",
      "\u001b[1;31mNameError\u001b[0m: name 'p_cov' is not defined"
     ]
    }
   ],
   "source": [
    "import numpy as np\n",
    "import matplotlib.pyplot as plt\n",
    "\n",
    "# Sample data\n",
    "x = np.array(net_N)\n",
    "y = np.array(evaluation)\n",
    "\n",
    "from scipy.optimize import curve_fit\n",
    "\n",
    "# Define the functions to fit\n",
    "def poly_exp_fit(x, a, c, d):\n",
    "    return a + c * np.exp(-d * x)\n",
    "\n",
    "# Initial guesses for the fit parameters\n",
    "p0 = [0.3, 0.1, 0.01]\n",
    "\n",
    "# Perform the fit\n",
    "popt, pcov = curve_fit(poly_exp_fit, x, y, p0=p0)\n",
    "\n",
    "\n",
    "# Create the scatter plot\n",
    "fig, ax = plt.subplots(1,1, figsize=(6, 4))\n",
    "plt.scatter(x, y, marker='x')\n",
    "\n",
    "# Plot the fitted curves\n",
    "x_fit = np.linspace(x.min(), x.max(), 50)\n",
    "ax.plot(x_fit, poly_exp_fit(x_fit, *popt), label='fit')\n",
    "\n",
    "# Add labels and title\n",
    "ax.set_xlabel('N, number of trajectories')\n",
    "ax.set_ylabel('$\\Delta$, image difference')\n",
    "ax.legend()\n",
    "ax.set_ylim([0, evaluation.max()*1.2])\n",
    "\n",
    "# Show the plot\n",
    "plt.show()\n",
    "print(p_cov)"
   ]
  },
  {
   "cell_type": "code",
   "execution_count": 10,
   "id": "cf11710f",
   "metadata": {},
   "outputs": [
    {
     "name": "stdout",
     "output_type": "stream",
     "text": [
      "R-squared value: 0.844\n"
     ]
    }
   ],
   "source": [
    "\n",
    "residuals = y - poly_exp_fit(x, *popt)\n",
    "var_residuals = np.var(residuals)\n",
    "var_fitted = np.var(poly_exp_fit(x, *popt))\n",
    "r2 = 1 - var_residuals / var_fitted\n",
    "\n",
    "print(f\"R-squared value: {r2:.3f}\")"
   ]
  }
 ],
 "metadata": {
  "kernelspec": {
   "display_name": "Python 3 (ipykernel)",
   "language": "python",
   "name": "python3"
  },
  "language_info": {
   "codemirror_mode": {
    "name": "ipython",
    "version": 3
   },
   "file_extension": ".py",
   "mimetype": "text/x-python",
   "name": "python",
   "nbconvert_exporter": "python",
   "pygments_lexer": "ipython3",
   "version": "3.10.5"
  }
 },
 "nbformat": 4,
 "nbformat_minor": 5
}
