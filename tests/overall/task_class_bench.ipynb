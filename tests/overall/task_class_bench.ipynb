{
 "cells": [
  {
   "cell_type": "code",
   "execution_count": 2,
   "metadata": {},
   "outputs": [
    {
     "name": "stderr",
     "output_type": "stream",
     "text": [
      "\u001b[32m21:17:12\u001b[0m|TQ-\u001b[34mWARNING\u001b[0m| \u001b[33m\u001b[1mError enabling CUDA. cuda.is_available() returned False. CPU will be used.\u001b[0m\n"
     ]
    }
   ],
   "source": [
    "import sys\n",
    "sys.path.append('..')\n",
    "from hijacobi import Task, Spherically_Symmetric, repOfan\n",
    "import torch\n",
    "import matplotlib.pyplot as plt"
   ]
  },
  {
   "cell_type": "code",
   "execution_count": 17,
   "metadata": {},
   "outputs": [
    {
     "name": "stdout",
     "output_type": "stream",
     "text": [
      "Test passed, setting fuction as Ith\n"
     ]
    }
   ],
   "source": [
    "# Инициализация нужных объектов\n",
    "metric_f = lambda r: 1-2/r\n",
    "\n",
    "# *** Тут нужно придумать ещё более простую тестовую модель ***\n",
    "BH = Spherically_Symmetric(f=metric_f)\n",
    "\n",
    "\n",
    "# Задаём граничные условия для задачи\n",
    "th_lims = torch.Tensor([torch.pi/1.9, torch.pi*60/180])\n",
    "\n",
    "r_s = torch.Tensor([2.1, 3, 4, 5])\n",
    "r_obs = torch.Tensor([500])\n",
    "\n",
    "# Превращаем в набор:\n",
    "eq_data0 = [{'r_s': r_, 'r_obs': r_obs, 'th_s': th_lims[0], 'th_obs': th_lims[1], 'n_th':0, 'n_r':0} for r_ in r_s]\n",
    "eq_data1 = [{'r_s': r_, 'r_obs': r_obs, 'th_s': th_lims[0], 'th_obs': th_lims[1], 'n_th':1, 'n_r':0} for r_ in r_s]\n",
    "\n",
    "eq_data = eq_data0 + eq_data1\n",
    "\n",
    "# Инициализация задачи\n",
    "Task0 = Task(BH, eq_data)\n",
    "\n",
    "\n",
    "# Проверяем инициализацию решателя\n",
    "Solver0 = repOfan(BH)\n",
    "#Solver0.setup(q0=2.5, tol=1e-4, maxiter=30, integr_N=25)\n",
    "Solver0.setCustomIth(BH.Ith)\n",
    "Task0.set_solver(Solver0)\n"
   ]
  },
  {
   "cell_type": "code",
   "execution_count": 18,
   "metadata": {},
   "outputs": [
    {
     "data": {
      "text/plain": [
       "[{'r_s': tensor(2.1000),\n",
       "  'r_obs': tensor([500.]),\n",
       "  'th_s': tensor(1.6535),\n",
       "  'th_obs': tensor(1.0472),\n",
       "  'n_th': 0,\n",
       "  'n_r': 0},\n",
       " {'r_s': tensor(3.),\n",
       "  'r_obs': tensor([500.]),\n",
       "  'th_s': tensor(1.6535),\n",
       "  'th_obs': tensor(1.0472),\n",
       "  'n_th': 0,\n",
       "  'n_r': 0},\n",
       " {'r_s': tensor(4.),\n",
       "  'r_obs': tensor([500.]),\n",
       "  'th_s': tensor(1.6535),\n",
       "  'th_obs': tensor(1.0472),\n",
       "  'n_th': 0,\n",
       "  'n_r': 0},\n",
       " {'r_s': tensor(5.),\n",
       "  'r_obs': tensor([500.]),\n",
       "  'th_s': tensor(1.6535),\n",
       "  'th_obs': tensor(1.0472),\n",
       "  'n_th': 0,\n",
       "  'n_r': 0},\n",
       " {'r_s': tensor(2.1000),\n",
       "  'r_obs': tensor([500.]),\n",
       "  'th_s': tensor(1.6535),\n",
       "  'th_obs': tensor(1.0472),\n",
       "  'n_th': 1,\n",
       "  'n_r': 0},\n",
       " {'r_s': tensor(3.),\n",
       "  'r_obs': tensor([500.]),\n",
       "  'th_s': tensor(1.6535),\n",
       "  'th_obs': tensor(1.0472),\n",
       "  'n_th': 1,\n",
       "  'n_r': 0},\n",
       " {'r_s': tensor(4.),\n",
       "  'r_obs': tensor([500.]),\n",
       "  'th_s': tensor(1.6535),\n",
       "  'th_obs': tensor(1.0472),\n",
       "  'n_th': 1,\n",
       "  'n_r': 0},\n",
       " {'r_s': tensor(5.),\n",
       "  'r_obs': tensor([500.]),\n",
       "  'th_s': tensor(1.6535),\n",
       "  'th_obs': tensor(1.0472),\n",
       "  'n_th': 1,\n",
       "  'n_r': 0}]"
      ]
     },
     "execution_count": 18,
     "metadata": {},
     "output_type": "execute_result"
    }
   ],
   "source": [
    "Task0.eq_data"
   ]
  },
  {
   "cell_type": "code",
   "execution_count": 19,
   "metadata": {},
   "outputs": [
    {
     "name": "stdout",
     "output_type": "stream",
     "text": [
      "[{'r_s': tensor(2.1000), 'r_obs': tensor([500.]), 'th_s': tensor(1.6535), 'th_obs': tensor(1.0472), 'n_th': 0, 'n_r': 0, 'res': None}, {'r_s': tensor(3.), 'r_obs': tensor([500.]), 'th_s': tensor(1.6535), 'th_obs': tensor(1.0472), 'n_th': 0, 'n_r': 0, 'res': None}, {'r_s': tensor(4.), 'r_obs': tensor([500.]), 'th_s': tensor(1.6535), 'th_obs': tensor(1.0472), 'n_th': 0, 'n_r': 0, 'res': None}, {'r_s': tensor(5.), 'r_obs': tensor([500.]), 'th_s': tensor(1.6535), 'th_obs': tensor(1.0472), 'n_th': 0, 'n_r': 0, 'res': None}, {'r_s': tensor(2.1000), 'r_obs': tensor([500.]), 'th_s': tensor(1.6535), 'th_obs': tensor(1.0472), 'n_th': 1, 'n_r': 0, 'res': None}, {'r_s': tensor(3.), 'r_obs': tensor([500.]), 'th_s': tensor(1.6535), 'th_obs': tensor(1.0472), 'n_th': 1, 'n_r': 0, 'res': None}, {'r_s': tensor(4.), 'r_obs': tensor([500.]), 'th_s': tensor(1.6535), 'th_obs': tensor(1.0472), 'n_th': 1, 'n_r': 0, 'res': None}, {'r_s': tensor(5.), 'r_obs': tensor([500.]), 'th_s': tensor(1.6535), 'th_obs': tensor(1.0472), 'n_th': 1, 'n_r': 0, 'res': None}]\n"
     ]
    }
   ],
   "source": [
    "# Проверяем сборку фрейма решения\n",
    "print(Task0.get_solution_frame())"
   ]
  },
  {
   "cell_type": "code",
   "execution_count": 20,
   "metadata": {},
   "outputs": [
    {
     "data": {
      "image/png": "[encoded data removed]",
      "text/plain": [
       "<Figure size 576x576 with 1 Axes>"
      ]
     },
     "metadata": {
      "needs_background": "light"
     },
     "output_type": "display_data"
    }
   ],
   "source": [
    "# Убеждаемся, что уравнения имеют решения\n",
    "eq00 = Task0.make_eq(0)\n",
    "gma = torch.Tensor([torch.pi/8])\n",
    "eq_p = lambda p: eq00(Solver0.L(gma, p), Solver0.Q(gma, p))\n",
    "\n",
    "p_s = torch.linspace(0, 4, 40)\n",
    "\n",
    "fig, ax = plt.subplots(1,1, figsize=(8,8))\n",
    "ax.plot(p_s, eq_p(p_s))\n",
    "\n",
    "plt.show()"
   ]
  }
 ],
 "metadata": {
  "kernelspec": {
   "display_name": "Python 3",
   "language": "python",
   "name": "python3"
  },
  "language_info": {
   "codemirror_mode": {
    "name": "ipython",
    "version": 3
   },
   "file_extension": ".py",
   "mimetype": "text/x-python",
   "name": "python",
   "nbconvert_exporter": "python",
   "pygments_lexer": "ipython3",
   "version": "3.10.5"
  }
 },
 "nbformat": 4,
 "nbformat_minor": 2
}
