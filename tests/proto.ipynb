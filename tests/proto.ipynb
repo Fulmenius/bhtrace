{
 "cells": [
  {
   "cell_type": "code",
   "execution_count": 1,
   "metadata": {},
   "outputs": [
    {
     "name": "stderr",
     "output_type": "stream",
     "text": [
      "\u001b[32m11:14:23\u001b[0m|TQ-\u001b[34mWARNING\u001b[0m| \u001b[33m\u001b[1mError enabling CUDA. cuda.is_available() returned False. CPU will be used.\u001b[0m\n"
     ]
    }
   ],
   "source": [
    "import sys\n",
    "import torch\n",
    "import matplotlib.pyplot as plt\n",
    "from xitorch.optimize import rootfinder\n",
    "\n",
    "from scipy.interpolate import interp1d\n",
    "sys.path.append('..')\n",
    "from hijacobi import Task, Spherically_Symmetric, reparam\n"
   ]
  },
  {
   "cell_type": "code",
   "execution_count": 2,
   "metadata": {},
   "outputs": [
    {
     "name": "stdout",
     "output_type": "stream",
     "text": [
      "Test passed, setting fuction as Ith\n"
     ]
    }
   ],
   "source": [
    "# Setting model\n",
    "metric_f = lambda r: 1-2/r\n",
    "BH = Spherically_Symmetric(f=metric_f)\n",
    "\n",
    "# Setting up solver\n",
    "Solver0 = reparam(BH)\n",
    "Solver0.set_Simpson()\n",
    "Solver0.setup(2.4, 1e-4, 40, 31)\n",
    "Solver0.setCustomIth(BH.Ith)\n",
    "\n",
    "# Setting up task\n",
    "th_s = torch.pi/2\n",
    "th_obs = torch.pi/5\n",
    "\n",
    "r_s = torch.Tensor([2.1, 2.4, 3, 3.5, 5, 8, 9])\n",
    "r_obs = 50\n",
    "\n",
    "ic_0 = torch.Tensor([[[th_s, th_obs], [r_, r_obs]]for r_ in r_s ])\n",
    "\n",
    "Task0 = Task(BH, [[0, 0, ic_0]])\n",
    "Task0.set_solver(Solver0)"
   ]
  },
  {
   "cell_type": "code",
   "execution_count": 3,
   "metadata": {},
   "outputs": [
    {
     "name": "stderr",
     "output_type": "stream",
     "text": [
      "c:\\Users\\aleks\\AppData\\Local\\Programs\\Python\\Python310\\lib\\site-packages\\torch\\functional.py:504: UserWarning: torch.meshgrid: in an upcoming release, it will be required to pass the indexing argument. (Triggered internally at ..\\aten\\src\\ATen\\native\\TensorShape.cpp:3484.)\n",
      "  return _VF.meshgrid(tensors, **kwargs)  # type: ignore[attr-defined]\n",
      "c:\\Users\\aleks\\AppData\\Local\\Programs\\Python\\Python310\\lib\\site-packages\\xitorch\\_impls\\optimize\\root\\rootsolver.py:165: ConvergenceWarning: The rootfinder does not converge after 40 iterations. Best |dx|=2.449e+00, |f|=7.217e-01 at iter 1\n",
      "  warnings.warn(ConvergenceWarning(msg))\n",
      "c:\\Users\\aleks\\AppData\\Local\\Programs\\Python\\Python310\\lib\\site-packages\\xitorch\\_impls\\optimize\\root\\rootsolver.py:165: ConvergenceWarning: The rootfinder does not converge after 40 iterations. Best |dx|=7.352e+00, |f|=3.061e-01 at iter 2\n",
      "  warnings.warn(ConvergenceWarning(msg))\n",
      "c:\\Users\\aleks\\AppData\\Local\\Programs\\Python\\Python310\\lib\\site-packages\\xitorch\\_impls\\optimize\\root\\rootsolver.py:165: ConvergenceWarning: The rootfinder does not converge after 40 iterations. Best |dx|=1.479e+00, |f|=2.970e-01 at iter 1\n",
      "  warnings.warn(ConvergenceWarning(msg))\n"
     ]
    }
   ],
   "source": [
    "eq00 = Task0.make_eq(0, 1)\n",
    "\n",
    "eq_p = lambda p, gma: eq00(Solver0.L(gma, abs(p)), Solver0.Q(gma, abs(p)))\n",
    "\n",
    "gma0 = torch.linspace(0, 2, 24)*torch.pi\n",
    "p0 = torch.ones_like(gma0)\n",
    "\n",
    "gma_res, p_res, err = Solver0.solve(eq_p, gma0, p0, 3)"
   ]
  },
  {
   "cell_type": "code",
   "execution_count": 4,
   "metadata": {},
   "outputs": [
    {
     "data": {
      "image/png": "[encoded data removed]",
      "text/plain": [
       "<Figure size 864x432 with 2 Axes>"
      ]
     },
     "metadata": {
      "needs_background": "light"
     },
     "output_type": "display_data"
    }
   ],
   "source": [
    "mask_t = torch.less(abs(err), 1e-4)\n",
    "\n",
    "p_true = torch.nan*torch.ones_like(gma_res)\n",
    "p_true[mask_t] = p_res[mask_t]\n",
    "\n",
    "l_all = Solver0.L(gma_res, p_res)\n",
    "q_all = Solver0.Q(gma_res, p_res)\n",
    "\n",
    "l_true = Solver0.L(gma_res, p_true)\n",
    "q_true= Solver0.Q(gma_res, p_true)\n",
    "\n",
    "fig, ax = plt.subplots(1,2, figsize=(12,6))\n",
    "\n",
    "ax[0].plot(gma_res, p_res, 'x')\n",
    "ax[0].plot(gma_res, p_true)\n",
    "ax[0].set_xlabel('$\\gamma$: rad')\n",
    "ax[0].set_ylabel('$p$')\n",
    "ax[0].grid('on')\n",
    "\n",
    "ax[1].plot(l_all, q_all, 'x')\n",
    "ax[1].plot(l_true, q_true)\n",
    "ax[1].set_xlabel('$l$: angluar momentum')\n",
    "ax[1].set_ylabel('$q$: carter constant')\n",
    "ax[1].legend(['all data', 'tol 1e-4'], )\n",
    "ax[1].grid('on')\n",
    "\n",
    "plt.show()"
   ]
  },
  {
   "cell_type": "code",
   "execution_count": 66,
   "metadata": {},
   "outputs": [
    {
     "name": "stderr",
     "output_type": "stream",
     "text": [
      "c:\\Users\\aleks\\AppData\\Local\\Programs\\Python\\Python310\\lib\\site-packages\\torchquad\\integration\\utils.py:255: UserWarning: DEPRECATION WARNING: In future versions of torchquad, an array-like object will be returned.\n",
      "  warnings.warn(\n",
      "c:\\Users\\aleks\\AppData\\Local\\Programs\\Python\\Python310\\lib\\site-packages\\xitorch\\_impls\\optimize\\root\\rootsolver.py:165: ConvergenceWarning: The rootfinder does not converge after 80 iterations. Best |dx|=1.000e+00, |f|=1.206e+00 at iter 0\n",
      "  warnings.warn(ConvergenceWarning(msg))\n",
      "c:\\Users\\aleks\\AppData\\Local\\Programs\\Python\\Python310\\lib\\site-packages\\xitorch\\_impls\\optimize\\root\\rootsolver.py:165: ConvergenceWarning: The rootfinder does not converge after 80 iterations. Best |dx|=1.000e+00, |f|=1.198e+00 at iter 0\n",
      "  warnings.warn(ConvergenceWarning(msg))\n",
      "c:\\Users\\aleks\\AppData\\Local\\Programs\\Python\\Python310\\lib\\site-packages\\xitorch\\_impls\\optimize\\root\\rootsolver.py:165: ConvergenceWarning: The rootfinder does not converge after 80 iterations. Best |dx|=1.000e+00, |f|=1.174e+00 at iter 0\n",
      "  warnings.warn(ConvergenceWarning(msg))\n",
      "c:\\Users\\aleks\\AppData\\Local\\Programs\\Python\\Python310\\lib\\site-packages\\xitorch\\_impls\\optimize\\root\\rootsolver.py:165: ConvergenceWarning: The rootfinder does not converge after 80 iterations. Best |dx|=1.000e+00, |f|=1.138e+00 at iter 0\n",
      "  warnings.warn(ConvergenceWarning(msg))\n",
      "c:\\Users\\aleks\\AppData\\Local\\Programs\\Python\\Python310\\lib\\site-packages\\xitorch\\_impls\\optimize\\root\\rootsolver.py:165: ConvergenceWarning: The rootfinder does not converge after 80 iterations. Best |dx|=5.000e-01, |f|=1.077e+00 at iter 1\n",
      "  warnings.warn(ConvergenceWarning(msg))\n",
      "c:\\Users\\aleks\\AppData\\Local\\Programs\\Python\\Python310\\lib\\site-packages\\xitorch\\_impls\\optimize\\root\\rootsolver.py:165: ConvergenceWarning: The rootfinder does not converge after 80 iterations. Best |dx|=5.000e-01, |f|=9.993e-01 at iter 1\n",
      "  warnings.warn(ConvergenceWarning(msg))\n",
      "c:\\Users\\aleks\\AppData\\Local\\Programs\\Python\\Python310\\lib\\site-packages\\xitorch\\_impls\\optimize\\root\\rootsolver.py:165: ConvergenceWarning: The rootfinder does not converge after 80 iterations. Best |dx|=5.000e-01, |f|=9.344e-01 at iter 1\n",
      "  warnings.warn(ConvergenceWarning(msg))\n"
     ]
    },
    {
     "name": "stdout",
     "output_type": "stream",
     "text": [
      "tensor([0.0000, 0.4488, 0.8976, 1.3464, 1.7952, 2.2440, 2.6928, 3.1416])\n",
      "tensor([1.1167, 1.1534, 1.1684, 1.1460, 1.0622,    nan,    nan,    nan])\n"
     ]
    },
    {
     "name": "stderr",
     "output_type": "stream",
     "text": [
      "c:\\Users\\aleks\\AppData\\Local\\Programs\\Python\\Python310\\lib\\site-packages\\xitorch\\_impls\\optimize\\root\\rootsolver.py:165: ConvergenceWarning: The rootfinder does not converge after 80 iterations. Best |dx|=5.000e-01, |f|=9.077e-01 at iter 1\n",
      "  warnings.warn(ConvergenceWarning(msg))\n"
     ]
    }
   ],
   "source": [
    "def test_f(p, gma):\n",
    "    outp = torch.ones_like(gma) + gma\n",
    "    mask1 = torch.greater_equal(gma,  1)\n",
    "    outp[mask1] = gma[mask1] - p[mask1] + 0.01\n",
    "    return outp"
   ]
  }
 ],
 "metadata": {
  "kernelspec": {
   "display_name": "Python 3",
   "language": "python",
   "name": "python3"
  },
  "language_info": {
   "codemirror_mode": {
    "name": "ipython",
    "version": 3
   },
   "file_extension": ".py",
   "mimetype": "text/x-python",
   "name": "python",
   "nbconvert_exporter": "python",
   "pygments_lexer": "ipython3",
   "version": "3.10.5"
  }
 },
 "nbformat": 4,
 "nbformat_minor": 2
}
